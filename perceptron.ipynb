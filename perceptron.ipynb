{
  "nbformat": 4,
  "nbformat_minor": 0,
  "metadata": {
    "colab": {
      "provenance": [],
      "authorship_tag": "ABX9TyOi2K7wgIA3TXtMsAzd/Lbw"
    },
    "kernelspec": {
      "name": "python3",
      "display_name": "Python 3"
    },
    "language_info": {
      "name": "python"
    }
  },
  "cells": [
    {
      "cell_type": "code",
      "execution_count": 1,
      "metadata": {
        "id": "_XMrDlXt_nGh"
      },
      "outputs": [],
      "source": [
        "import numpy as np\n",
        "\n",
        "class Perceptron:\n",
        "    def __init__(self, learning_rate=0.1, epochs=100):\n",
        "        self.learning_rate = learning_rate\n",
        "        self.epochs = epochs\n",
        "\n",
        "    def fit(self, X, y):\n",
        "        self.weights = np.random.rand(X.shape[1])\n",
        "        self.bias = np.random.rand(1)\n",
        "\n",
        "        for _ in range(self.epochs):\n",
        "            for inputs, target in zip(X, y):\n",
        "                prediction = self.predict(inputs)\n",
        "                error = target - prediction\n",
        "                self.weights += self.learning_rate * error * inputs\n",
        "                self.bias += self.learning_rate * error\n",
        "\n",
        "\n",
        "    def predict(self, inputs):\n",
        "        weighted_sum = np.dot(inputs, self.weights) + self.bias\n",
        "        result = self._activation(weighted_sum)\n",
        "\n",
        "        return result\n",
        "\n",
        "    def _activation(self, z):\n",
        "        return 1 if z >= 0 else 0\n",
        "\n",
        "    def print_table(self,inputs):\n",
        "        prediction = self.predict(inputs)\n",
        "        if prediction == 1:\n",
        "            output = \"True\"\n",
        "        else:\n",
        "            output = \"False\"\n",
        "\n",
        "        return f\"{inputs} : {output}\""
      ]
    },
    {
      "cell_type": "code",
      "source": [
        "model = Perceptron()\n",
        "X = np.array([[0,0],[0,1],[1,0],[1,1]])\n",
        "y = [0,0,0,1]\n",
        "model.fit(X,y)"
      ],
      "metadata": {
        "id": "5xNyA284_t5n"
      },
      "execution_count": 2,
      "outputs": []
    },
    {
      "cell_type": "code",
      "source": [
        "print(\"Truth table of AND Gate\\n\")\n",
        "print(model.print_table([0,0]))\n",
        "print(model.print_table([0,1]))\n",
        "print(model.print_table([1,0]))\n",
        "print(model.print_table([1,1]))"
      ],
      "metadata": {
        "colab": {
          "base_uri": "https://localhost:8080/"
        },
        "id": "QtWv29ut_xO1",
        "outputId": "4d82de56-ac11-4ea6-9dcf-bfd92896a267"
      },
      "execution_count": 3,
      "outputs": [
        {
          "output_type": "stream",
          "name": "stdout",
          "text": [
            "Truth table of AND Gate\n",
            "\n",
            "[0, 0] : False\n",
            "[0, 1] : False\n",
            "[1, 0] : False\n",
            "[1, 1] : True\n"
          ]
        }
      ]
    },
    {
      "cell_type": "code",
      "source": [
        "print(\"Weights: \",model.weights)\n",
        "print(\"Bias: \",model.bias)"
      ],
      "metadata": {
        "colab": {
          "base_uri": "https://localhost:8080/"
        },
        "id": "WClzKXwD_1ZB",
        "outputId": "ed544f77-d809-4290-fe8b-ddce1abc94df"
      },
      "execution_count": 4,
      "outputs": [
        {
          "output_type": "stream",
          "name": "stdout",
          "text": [
            "Weights:  [0.37657366 0.31653445]\n",
            "Bias:  [-0.54499104]\n"
          ]
        }
      ]
    }
  ]
}