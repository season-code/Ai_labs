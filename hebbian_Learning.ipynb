{
  "nbformat": 4,
  "nbformat_minor": 0,
  "metadata": {
    "colab": {
      "provenance": [],
      "authorship_tag": "ABX9TyORsR1Qi9cp7O95ToTwrbJY"
    },
    "kernelspec": {
      "name": "python3",
      "display_name": "Python 3"
    },
    "language_info": {
      "name": "python"
    }
  },
  "cells": [
    {
      "cell_type": "code",
      "execution_count": 1,
      "metadata": {
        "id": "jKmxyy1oAJ9m"
      },
      "outputs": [],
      "source": [
        "import pandas as pd\n",
        "import numpy as np\n",
        "class HebbianNeuron(object):\n",
        "    def __init__(self, shape, learning_rate =1, epoch=1):\n",
        "        self.shape = shape\n",
        "        self.learning_rate = learning_rate\n",
        "        self.epochs = epoch\n",
        "        self.weights = np.zeros(self.shape)\n",
        "        self.bias = np.zeros(1)\n",
        "\n",
        "    def train(self, inputs, targets):\n",
        "        for epoch in range(self.epochs):\n",
        "            for i in range(len(inputs)):\n",
        "                input_pattern = inputs[i]\n",
        "                target = targets[i]\n",
        "    #           output = np.dot(self.weights, input_pattern)\n",
        "                self.weights += self.learning_rate * target * input_pattern\n",
        "                self.bias += self.learning_rate * target\n",
        "                print(\"Weight updated: \" + str(self.weights[0]))\n",
        "                print(\"Weight updated: \" + str(self.weights[1]))\n",
        "                print(\"Bias updated: \" + str(self.bias))\n",
        "                print(\"----------------------------------------\")\n",
        "        return self.weights, self.bias\n",
        "\n",
        "    def predict(self, inputs, ret = False):\n",
        "        self.out_raw =[]\n",
        "        self.out_val =[]\n",
        "        for input_pattern in inputs:\n",
        "            output = input_pattern.dot(self.weights)+self.bias\n",
        "            self.out_raw.append(output)\n",
        "            self.out_val.append(1 if output>0 else -1)\n",
        "            if not ret:\n",
        "                print(f\"Input: {input_pattern}, Output:{output > 0}\")\n",
        "\n",
        "    def TruthTable(self, input, input_labels, output_labels):\n",
        "        table = pd.DataFrame(input, columns = input_labels)\n",
        "\n",
        "        self.predict(input,True)\n",
        "\n",
        "\n",
        "        table[output_labels] = pd.Series(self.out_val)\n",
        "        return table"
      ]
    },
    {
      "cell_type": "code",
      "source": [
        "inputs = np.array([[-1, -1], [-1, 1], [1, -1], [1, 1]])\n",
        "targets = np.array([-1,1,1,1])\n",
        "OR = HebbianNeuron(inputs.shape[1])"
      ],
      "metadata": {
        "id": "y0GrbiUzAR3R"
      },
      "execution_count": 2,
      "outputs": []
    },
    {
      "cell_type": "code",
      "source": [
        "OR.train(inputs, targets)"
      ],
      "metadata": {
        "colab": {
          "base_uri": "https://localhost:8080/"
        },
        "id": "SR4sSvMtAUMp",
        "outputId": "cac63c55-e37f-4eab-e450-820e868e1724"
      },
      "execution_count": 3,
      "outputs": [
        {
          "output_type": "stream",
          "name": "stdout",
          "text": [
            "Weight updated: 1.0\n",
            "Weight updated: 1.0\n",
            "Bias updated: [-1.]\n",
            "----------------------------------------\n",
            "Weight updated: 0.0\n",
            "Weight updated: 2.0\n",
            "Bias updated: [0.]\n",
            "----------------------------------------\n",
            "Weight updated: 1.0\n",
            "Weight updated: 1.0\n",
            "Bias updated: [1.]\n",
            "----------------------------------------\n",
            "Weight updated: 2.0\n",
            "Weight updated: 2.0\n",
            "Bias updated: [2.]\n",
            "----------------------------------------\n"
          ]
        },
        {
          "output_type": "execute_result",
          "data": {
            "text/plain": [
              "(array([2., 2.]), array([2.]))"
            ]
          },
          "metadata": {},
          "execution_count": 3
        }
      ]
    },
    {
      "cell_type": "code",
      "source": [
        "OR.predict(inputs)"
      ],
      "metadata": {
        "colab": {
          "base_uri": "https://localhost:8080/"
        },
        "id": "7ErQKL8rAWMD",
        "outputId": "1d813c4b-0501-4ae5-b6cd-cd3b73ede6ce"
      },
      "execution_count": 4,
      "outputs": [
        {
          "output_type": "stream",
          "name": "stdout",
          "text": [
            "Input: [-1 -1], Output:[False]\n",
            "Input: [-1  1], Output:[ True]\n",
            "Input: [ 1 -1], Output:[ True]\n",
            "Input: [1 1], Output:[ True]\n"
          ]
        }
      ]
    }
  ]
}