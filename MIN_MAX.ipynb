{
  "nbformat": 4,
  "nbformat_minor": 0,
  "metadata": {
    "colab": {
      "provenance": [],
      "authorship_tag": "ABX9TyPnTW3F6C1QPzPBiE3PZN7G"
    },
    "kernelspec": {
      "name": "python3",
      "display_name": "Python 3"
    },
    "language_info": {
      "name": "python"
    }
  },
  "cells": [
    {
      "cell_type": "code",
      "execution_count": 1,
      "metadata": {
        "colab": {
          "base_uri": "https://localhost:8080/"
        },
        "id": "zU7rRRbrHERL",
        "outputId": "500bbca7-524e-45f6-f109-9cd3cee61c50"
      },
      "outputs": [
        {
          "output_type": "stream",
          "name": "stdout",
          "text": [
            "The optimal value is : 17\n"
          ]
        }
      ],
      "source": [
        "import math\n",
        "\n",
        "def minimax(curDepth, nodeIndex, maxTurn, scores, targetDepth):\n",
        "    # base case: targetDepth reached\n",
        "    if curDepth == targetDepth:\n",
        "        return scores[nodeIndex]\n",
        "\n",
        "    if maxTurn:\n",
        "        return max(minimax(curDepth + 1, nodeIndex * 2,\n",
        "                           False, scores, targetDepth),\n",
        "                   minimax(curDepth + 1, nodeIndex * 2 + 1,\n",
        "                           False, scores, targetDepth))\n",
        "    else:\n",
        "        return min(minimax(curDepth + 1, nodeIndex * 2,\n",
        "                           True, scores, targetDepth),\n",
        "                   minimax(curDepth + 1, nodeIndex * 2 + 1,\n",
        "                           True, scores, targetDepth))\n",
        "\n",
        "\n",
        "scores = [7, 15, 20, 5, 11, 25, 17, 10]\n",
        "\n",
        "treeDepth = math.log(len(scores), 2)\n",
        "\n",
        "print(\"The optimal value is : \", end=\"\")\n",
        "print(minimax(0, 0, True, scores, treeDepth))"
      ]
    }
  ]
}