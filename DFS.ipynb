{
  "nbformat": 4,
  "nbformat_minor": 0,
  "metadata": {
    "colab": {
      "provenance": [],
      "authorship_tag": "ABX9TyPKL9R4aAeczqdO9NAQNWMd"
    },
    "kernelspec": {
      "name": "python3",
      "display_name": "Python 3"
    },
    "language_info": {
      "name": "python"
    }
  },
  "cells": [
    {
      "cell_type": "code",
      "execution_count": 1,
      "metadata": {
        "colab": {
          "base_uri": "https://localhost:8080/"
        },
        "id": "lS6QYgGBFHH_",
        "outputId": "64e054e9-b83a-41b4-cf83-fbf9912d27d0"
      },
      "outputs": [
        {
          "output_type": "stream",
          "name": "stdout",
          "text": [
            "Following is the Depth-First Search\n",
            "A->B->E->F->IC->D->G->H->"
          ]
        }
      ],
      "source": [
        "graph = {\n",
        "    'A': ['B', 'C'],\n",
        "    'B': ['E', 'F'],\n",
        "    'C': ['D'],\n",
        "    'D': ['G', 'H'],\n",
        "    'E': [],\n",
        "    'F': ['I'],\n",
        "    'G': [],\n",
        "    'H': [],\n",
        "    'I': []\n",
        "}\n",
        "\n",
        "visited = set()  # Set to keep track of visited nodes of the graph.\n",
        "\n",
        "def dfs(visited, graph, node):  # function for dfs\n",
        "    if node not in visited:\n",
        "        # print '->' after each node except the last one\n",
        "        print(node, end='->' if node != 'I' else '')\n",
        "        visited.add(node)\n",
        "        for neighbour in graph[node]:\n",
        "            dfs(visited, graph, neighbour)\n",
        "\n",
        "print(\"Following is the Depth-First Search\")\n",
        "dfs(visited, graph, 'A')"
      ]
    }
  ]
}